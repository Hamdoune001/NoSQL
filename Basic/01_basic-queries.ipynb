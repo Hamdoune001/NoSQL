{
 "cells": [
  {
   "cell_type": "code",
   "execution_count": 2,
   "id": "initial_id",
   "metadata": {
    "collapsed": true,
    "ExecuteTime": {
     "end_time": "2025-06-24T07:19:53.531658800Z",
     "start_time": "2025-06-24T07:19:53.526738400Z"
    }
   },
   "outputs": [],
   "source": [
    "import pandas as pd"
   ]
  },
  {
   "cell_type": "code",
   "execution_count": 5,
   "outputs": [],
   "source": [
    "df_pokemon = pd.read_csv('../../DATA/pokemonGO.csv')"
   ],
   "metadata": {
    "collapsed": false,
    "ExecuteTime": {
     "end_time": "2025-06-24T07:21:42.883750400Z",
     "start_time": "2025-06-24T07:21:42.836093600Z"
    }
   },
   "id": "b9f100824af80116"
  },
  {
   "cell_type": "markdown",
   "source": [
    "Exercice 1: Création d'une Base de Données et d'une Collection"
   ],
   "metadata": {
    "collapsed": false
   },
   "id": "7e320dfffeed40c8"
  },
  {
   "cell_type": "markdown",
   "source": [
    "Exercice 2: Insertion de Données\n"
   ],
   "metadata": {
    "collapsed": false
   },
   "id": "621275b038749f86"
  },
  {
   "cell_type": "code",
   "execution_count": 7,
   "outputs": [],
   "source": [
    "from pymongo import MongoClient\n"
   ],
   "metadata": {
    "collapsed": false,
    "ExecuteTime": {
     "end_time": "2025-06-24T09:11:53.931264800Z",
     "start_time": "2025-06-24T09:11:53.285920300Z"
    }
   },
   "id": "2fcf7ab17d7e1648"
  },
  {
   "cell_type": "code",
   "execution_count": 8,
   "outputs": [],
   "source": [
    "client = MongoClient(\"mongodb://localhost:27017/\")\n"
   ],
   "metadata": {
    "collapsed": false,
    "ExecuteTime": {
     "end_time": "2025-06-24T09:12:04.528851400Z",
     "start_time": "2025-06-24T09:12:03.983577800Z"
    }
   },
   "id": "ff96183c691dd60c"
  },
  {
   "cell_type": "code",
   "execution_count": 9,
   "outputs": [],
   "source": [
    "db = client[\"PokemonDB\"]\n"
   ],
   "metadata": {
    "collapsed": false,
    "ExecuteTime": {
     "end_time": "2025-06-24T09:12:17.765078700Z",
     "start_time": "2025-06-24T09:12:17.697902400Z"
    }
   },
   "id": "1adaa6ec6cc9e560"
  },
  {
   "cell_type": "code",
   "execution_count": 10,
   "outputs": [],
   "source": [
    "collection = db[\"Pokemons\"]\n"
   ],
   "metadata": {
    "collapsed": false,
    "ExecuteTime": {
     "end_time": "2025-06-24T09:12:31.882824600Z",
     "start_time": "2025-06-24T09:12:31.831450100Z"
    }
   },
   "id": "6d64c09740bbd68e"
  },
  {
   "cell_type": "code",
   "execution_count": 11,
   "outputs": [
    {
     "data": {
      "text/plain": "InsertManyResult([ObjectId('685a6c23ff44cf9271d82f02'), ObjectId('685a6c23ff44cf9271d82f03'), ObjectId('685a6c23ff44cf9271d82f04'), ObjectId('685a6c23ff44cf9271d82f05'), ObjectId('685a6c23ff44cf9271d82f06'), ObjectId('685a6c23ff44cf9271d82f07'), ObjectId('685a6c23ff44cf9271d82f08'), ObjectId('685a6c23ff44cf9271d82f09'), ObjectId('685a6c23ff44cf9271d82f0a'), ObjectId('685a6c23ff44cf9271d82f0b'), ObjectId('685a6c23ff44cf9271d82f0c'), ObjectId('685a6c23ff44cf9271d82f0d'), ObjectId('685a6c23ff44cf9271d82f0e'), ObjectId('685a6c23ff44cf9271d82f0f'), ObjectId('685a6c23ff44cf9271d82f10'), ObjectId('685a6c23ff44cf9271d82f11'), ObjectId('685a6c23ff44cf9271d82f12'), ObjectId('685a6c23ff44cf9271d82f13'), ObjectId('685a6c23ff44cf9271d82f14'), ObjectId('685a6c23ff44cf9271d82f15'), ObjectId('685a6c23ff44cf9271d82f16'), ObjectId('685a6c23ff44cf9271d82f17'), ObjectId('685a6c23ff44cf9271d82f18'), ObjectId('685a6c23ff44cf9271d82f19'), ObjectId('685a6c23ff44cf9271d82f1a'), ObjectId('685a6c23ff44cf9271d82f1b'), ObjectId('685a6c23ff44cf9271d82f1c'), ObjectId('685a6c23ff44cf9271d82f1d'), ObjectId('685a6c23ff44cf9271d82f1e'), ObjectId('685a6c23ff44cf9271d82f1f'), ObjectId('685a6c23ff44cf9271d82f20'), ObjectId('685a6c23ff44cf9271d82f21'), ObjectId('685a6c23ff44cf9271d82f22'), ObjectId('685a6c23ff44cf9271d82f23'), ObjectId('685a6c23ff44cf9271d82f24'), ObjectId('685a6c23ff44cf9271d82f25'), ObjectId('685a6c23ff44cf9271d82f26'), ObjectId('685a6c23ff44cf9271d82f27'), ObjectId('685a6c23ff44cf9271d82f28'), ObjectId('685a6c23ff44cf9271d82f29'), ObjectId('685a6c23ff44cf9271d82f2a'), ObjectId('685a6c23ff44cf9271d82f2b'), ObjectId('685a6c23ff44cf9271d82f2c'), ObjectId('685a6c23ff44cf9271d82f2d'), ObjectId('685a6c23ff44cf9271d82f2e'), ObjectId('685a6c23ff44cf9271d82f2f'), ObjectId('685a6c23ff44cf9271d82f30'), ObjectId('685a6c23ff44cf9271d82f31'), ObjectId('685a6c23ff44cf9271d82f32'), ObjectId('685a6c23ff44cf9271d82f33'), ObjectId('685a6c23ff44cf9271d82f34'), ObjectId('685a6c23ff44cf9271d82f35'), ObjectId('685a6c23ff44cf9271d82f36'), ObjectId('685a6c23ff44cf9271d82f37'), ObjectId('685a6c23ff44cf9271d82f38'), ObjectId('685a6c23ff44cf9271d82f39'), ObjectId('685a6c23ff44cf9271d82f3a'), ObjectId('685a6c23ff44cf9271d82f3b'), ObjectId('685a6c23ff44cf9271d82f3c'), ObjectId('685a6c23ff44cf9271d82f3d'), ObjectId('685a6c23ff44cf9271d82f3e'), ObjectId('685a6c23ff44cf9271d82f3f'), ObjectId('685a6c23ff44cf9271d82f40'), ObjectId('685a6c23ff44cf9271d82f41'), ObjectId('685a6c23ff44cf9271d82f42'), ObjectId('685a6c23ff44cf9271d82f43'), ObjectId('685a6c23ff44cf9271d82f44'), ObjectId('685a6c23ff44cf9271d82f45'), ObjectId('685a6c23ff44cf9271d82f46'), ObjectId('685a6c23ff44cf9271d82f47'), ObjectId('685a6c23ff44cf9271d82f48'), ObjectId('685a6c23ff44cf9271d82f49'), ObjectId('685a6c23ff44cf9271d82f4a'), ObjectId('685a6c23ff44cf9271d82f4b'), ObjectId('685a6c23ff44cf9271d82f4c'), ObjectId('685a6c23ff44cf9271d82f4d'), ObjectId('685a6c23ff44cf9271d82f4e'), ObjectId('685a6c23ff44cf9271d82f4f'), ObjectId('685a6c23ff44cf9271d82f50'), ObjectId('685a6c23ff44cf9271d82f51'), ObjectId('685a6c23ff44cf9271d82f52'), ObjectId('685a6c23ff44cf9271d82f53'), ObjectId('685a6c23ff44cf9271d82f54'), ObjectId('685a6c23ff44cf9271d82f55'), ObjectId('685a6c23ff44cf9271d82f56'), ObjectId('685a6c23ff44cf9271d82f57'), ObjectId('685a6c23ff44cf9271d82f58'), ObjectId('685a6c23ff44cf9271d82f59'), ObjectId('685a6c23ff44cf9271d82f5a'), ObjectId('685a6c23ff44cf9271d82f5b'), ObjectId('685a6c23ff44cf9271d82f5c'), ObjectId('685a6c23ff44cf9271d82f5d'), ObjectId('685a6c23ff44cf9271d82f5e'), ObjectId('685a6c23ff44cf9271d82f5f'), ObjectId('685a6c23ff44cf9271d82f60'), ObjectId('685a6c23ff44cf9271d82f61'), ObjectId('685a6c23ff44cf9271d82f62'), ObjectId('685a6c23ff44cf9271d82f63'), ObjectId('685a6c23ff44cf9271d82f64'), ObjectId('685a6c23ff44cf9271d82f65'), ObjectId('685a6c23ff44cf9271d82f66'), ObjectId('685a6c23ff44cf9271d82f67'), ObjectId('685a6c23ff44cf9271d82f68'), ObjectId('685a6c23ff44cf9271d82f69'), ObjectId('685a6c23ff44cf9271d82f6a'), ObjectId('685a6c23ff44cf9271d82f6b'), ObjectId('685a6c23ff44cf9271d82f6c'), ObjectId('685a6c23ff44cf9271d82f6d'), ObjectId('685a6c23ff44cf9271d82f6e'), ObjectId('685a6c23ff44cf9271d82f6f'), ObjectId('685a6c23ff44cf9271d82f70'), ObjectId('685a6c23ff44cf9271d82f71'), ObjectId('685a6c23ff44cf9271d82f72'), ObjectId('685a6c23ff44cf9271d82f73'), ObjectId('685a6c23ff44cf9271d82f74'), ObjectId('685a6c23ff44cf9271d82f75'), ObjectId('685a6c23ff44cf9271d82f76'), ObjectId('685a6c23ff44cf9271d82f77'), ObjectId('685a6c23ff44cf9271d82f78'), ObjectId('685a6c23ff44cf9271d82f79'), ObjectId('685a6c23ff44cf9271d82f7a'), ObjectId('685a6c23ff44cf9271d82f7b'), ObjectId('685a6c23ff44cf9271d82f7c'), ObjectId('685a6c23ff44cf9271d82f7d'), ObjectId('685a6c23ff44cf9271d82f7e'), ObjectId('685a6c23ff44cf9271d82f7f'), ObjectId('685a6c23ff44cf9271d82f80'), ObjectId('685a6c23ff44cf9271d82f81'), ObjectId('685a6c23ff44cf9271d82f82'), ObjectId('685a6c23ff44cf9271d82f83'), ObjectId('685a6c23ff44cf9271d82f84'), ObjectId('685a6c23ff44cf9271d82f85'), ObjectId('685a6c23ff44cf9271d82f86'), ObjectId('685a6c23ff44cf9271d82f87'), ObjectId('685a6c23ff44cf9271d82f88'), ObjectId('685a6c23ff44cf9271d82f89'), ObjectId('685a6c23ff44cf9271d82f8a'), ObjectId('685a6c23ff44cf9271d82f8b'), ObjectId('685a6c23ff44cf9271d82f8c'), ObjectId('685a6c23ff44cf9271d82f8d'), ObjectId('685a6c23ff44cf9271d82f8e'), ObjectId('685a6c23ff44cf9271d82f8f'), ObjectId('685a6c23ff44cf9271d82f90'), ObjectId('685a6c23ff44cf9271d82f91'), ObjectId('685a6c23ff44cf9271d82f92'), ObjectId('685a6c23ff44cf9271d82f93'), ObjectId('685a6c23ff44cf9271d82f94'), ObjectId('685a6c23ff44cf9271d82f95'), ObjectId('685a6c23ff44cf9271d82f96'), ObjectId('685a6c23ff44cf9271d82f97'), ObjectId('685a6c23ff44cf9271d82f98')], acknowledged=True)"
     },
     "execution_count": 11,
     "metadata": {},
     "output_type": "execute_result"
    }
   ],
   "source": [
    "collection.insert_many(df_pokemon.to_dict('records'))\n"
   ],
   "metadata": {
    "collapsed": false,
    "ExecuteTime": {
     "end_time": "2025-06-24T09:13:07.662692200Z",
     "start_time": "2025-06-24T09:13:07.543719700Z"
    }
   },
   "id": "7c2c271f8ade1338"
  },
  {
   "cell_type": "markdown",
   "source": [
    "Exercice 3: Lecture de Données\n"
   ],
   "metadata": {
    "collapsed": false
   },
   "id": "effc2c5479288afb"
  },
  {
   "cell_type": "code",
   "execution_count": 26,
   "outputs": [],
   "source": [
    "pokemons_feu = collection.find({\"Type 1\": \"Feu\"})\n",
    "\n",
    "for pokemon in pokemons_feu:\n",
    "    print(pokemon)"
   ],
   "metadata": {
    "collapsed": false,
    "ExecuteTime": {
     "end_time": "2025-06-24T09:22:38.478723100Z",
     "start_time": "2025-06-24T09:22:38.436684300Z"
    }
   },
   "id": "34690ddf086d3192"
  },
  {
   "cell_type": "code",
   "execution_count": 27,
   "outputs": [
    {
     "data": {
      "text/plain": "{'_id': ObjectId('685a6c23ff44cf9271d82f1a'),\n 'Pokemon No.': 25,\n 'Name': 'Pikachu',\n 'Type 1': 'Electric',\n 'Type 2': nan,\n 'Max CP': 894,\n 'Max HP': 67,\n 'Image URL': 'http://cdn.bulbagarden.net/upload/thumb/0/0d/025Pikachu.png/250px-025Pikachu.png'}"
     },
     "execution_count": 27,
     "metadata": {},
     "output_type": "execute_result"
    }
   ],
   "source": [
    "collection.find_one({\"Name\":\"Pikachu\"})"
   ],
   "metadata": {
    "collapsed": false,
    "ExecuteTime": {
     "end_time": "2025-06-24T09:22:40.765072200Z",
     "start_time": "2025-06-24T09:22:40.725184Z"
    }
   },
   "id": "8350a6131fe21288"
  },
  {
   "cell_type": "markdown",
   "source": [
    "Exercice 4: Mise à Jour de Données\n"
   ],
   "metadata": {
    "collapsed": false
   },
   "id": "eecd9496c8e8bf93"
  },
  {
   "cell_type": "code",
   "execution_count": 28,
   "outputs": [
    {
     "data": {
      "text/plain": "UpdateResult({'n': 1, 'nModified': 1, 'ok': 1.0, 'updatedExisting': True}, acknowledged=True)"
     },
     "execution_count": 28,
     "metadata": {},
     "output_type": "execute_result"
    }
   ],
   "source": [
    "collection.update_one({\"Name\": \"Pikachu\"}, {\"$set\": {\"CP\": 900}})"
   ],
   "metadata": {
    "collapsed": false,
    "ExecuteTime": {
     "end_time": "2025-06-24T09:24:55.281414500Z",
     "start_time": "2025-06-24T09:24:55.240032900Z"
    }
   },
   "id": "be4d83f9c0984840"
  },
  {
   "cell_type": "markdown",
   "source": [
    "Exercice 5: Suppression d'Éléments\n"
   ],
   "metadata": {
    "collapsed": false
   },
   "id": "e941e713af03bc05"
  },
  {
   "cell_type": "code",
   "execution_count": 29,
   "outputs": [
    {
     "data": {
      "text/plain": "DeleteResult({'n': 1, 'ok': 1.0}, acknowledged=True)"
     },
     "execution_count": 29,
     "metadata": {},
     "output_type": "execute_result"
    }
   ],
   "source": [
    "collection.delete_one({\"Name\": \"Bulbasaur\"})"
   ],
   "metadata": {
    "collapsed": false,
    "ExecuteTime": {
     "end_time": "2025-06-24T09:26:15.529149Z",
     "start_time": "2025-06-24T09:26:15.474012100Z"
    }
   },
   "id": "ddc325c01038e1c9"
  },
  {
   "cell_type": "code",
   "execution_count": null,
   "outputs": [],
   "source": [],
   "metadata": {
    "collapsed": false
   },
   "id": "1b6a9e1f834ae6d"
  }
 ],
 "metadata": {
  "kernelspec": {
   "display_name": "Python 3",
   "language": "python",
   "name": "python3"
  },
  "language_info": {
   "codemirror_mode": {
    "name": "ipython",
    "version": 2
   },
   "file_extension": ".py",
   "mimetype": "text/x-python",
   "name": "python",
   "nbconvert_exporter": "python",
   "pygments_lexer": "ipython2",
   "version": "2.7.6"
  }
 },
 "nbformat": 4,
 "nbformat_minor": 5
}
