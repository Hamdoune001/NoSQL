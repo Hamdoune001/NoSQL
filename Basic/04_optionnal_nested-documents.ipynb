{
 "cells": [
  {
   "cell_type": "code",
   "execution_count": 1,
   "outputs": [],
   "source": [
    "import pandas as pd\n",
    "from pymongo import MongoClient\n"
   ],
   "metadata": {
    "collapsed": false,
    "ExecuteTime": {
     "end_time": "2025-06-29T18:16:57.044314400Z",
     "start_time": "2025-06-29T18:16:46.709488800Z"
    }
   },
   "id": "eba348d2e6c19b52"
  },
  {
   "cell_type": "code",
   "execution_count": 2,
   "outputs": [],
   "source": [
    "client = MongoClient(\"mongodb://localhost:27017/\")\n"
   ],
   "metadata": {
    "collapsed": false,
    "ExecuteTime": {
     "end_time": "2025-06-29T18:16:57.383924500Z",
     "start_time": "2025-06-29T18:16:57.042317300Z"
    }
   },
   "id": "79c6f198e0c41370"
  },
  {
   "cell_type": "code",
   "execution_count": 3,
   "outputs": [],
   "source": [
    "db = client[\"schoolDB\"]"
   ],
   "metadata": {
    "collapsed": false,
    "ExecuteTime": {
     "end_time": "2025-06-29T18:17:04.970953900Z",
     "start_time": "2025-06-29T18:17:04.957834600Z"
    }
   },
   "id": "7979b34c3c862a7"
  },
  {
   "cell_type": "code",
   "execution_count": 4,
   "outputs": [],
   "source": [
    "collection = db[\"classes\"]"
   ],
   "metadata": {
    "collapsed": false,
    "ExecuteTime": {
     "end_time": "2025-06-29T18:17:28.721515300Z",
     "start_time": "2025-06-29T18:17:28.706519700Z"
    }
   },
   "id": "c8d7bf49df8b2580"
  },
  {
   "cell_type": "markdown",
   "source": [
    "Partie 2: Insertion de Données"
   ],
   "metadata": {
    "collapsed": false
   },
   "id": "152e3c63d6ea4ec0"
  },
  {
   "cell_type": "code",
   "execution_count": 5,
   "id": "initial_id",
   "metadata": {
    "collapsed": true,
    "ExecuteTime": {
     "end_time": "2025-06-29T18:18:06.987545400Z",
     "start_time": "2025-06-29T18:18:06.953599800Z"
    }
   },
   "outputs": [],
   "source": [
    "# Insertion de données dans la collection \"classes\"\n",
    "class_data = {\n",
    "    \"class_name\": \"Mathematics 101\",\n",
    "    \"teacher\": \"John Doe\",\n",
    "    \"students\": [\n",
    "        {\n",
    "            \"name\": \"Charlie\",\n",
    "            \"age\": 21,\n",
    "            \"grades\": {\"midterm\": 79, \"final\": 92}\n",
    "        },\n",
    "        {\n",
    "            \"name\": \"Dylan\",\n",
    "            \"age\": 23,\n",
    "            \"grades\": {\"midterm\": 79, \"final\": 87}\n",
    "        }\n",
    "    ]\n",
    "}\n"
   ]
  },
  {
   "cell_type": "code",
   "execution_count": 6,
   "outputs": [
    {
     "name": "stdout",
     "output_type": "stream",
     "text": [
      "Document inséré avec l'ID : 68618366d99abdc223f09c9c\n"
     ]
    }
   ],
   "source": [
    "# Insertion du document dans la collection\n",
    "result = collection.insert_one(class_data)\n",
    "print(f\"Document inséré avec l'ID : {result.inserted_id}\")"
   ],
   "metadata": {
    "collapsed": false,
    "ExecuteTime": {
     "end_time": "2025-06-29T18:18:14.277548400Z",
     "start_time": "2025-06-29T18:18:14.170277200Z"
    }
   },
   "id": "6a6b1e6f50e2d66d"
  },
  {
   "cell_type": "markdown",
   "source": [
    "Partie 3: Requêtes sur Documents Imbriqués\n"
   ],
   "metadata": {
    "collapsed": false
   },
   "id": "33889801e9a4fd4e"
  },
  {
   "cell_type": "code",
   "execution_count": 7,
   "outputs": [],
   "source": [
    "#Recherche d'Étudiants : Récupérez tous les documents de la classe où au moins un étudiant a obtenu plus de 85 au final.\n",
    "query = {\n",
    "    \"students.grades.final\": {\"$gt\": 85}\n",
    "}"
   ],
   "metadata": {
    "collapsed": false,
    "ExecuteTime": {
     "end_time": "2025-06-29T18:19:05.162369500Z",
     "start_time": "2025-06-29T18:19:05.144311200Z"
    }
   },
   "id": "7aa7a732febca4cc"
  },
  {
   "cell_type": "code",
   "execution_count": 8,
   "outputs": [],
   "source": [
    "# Exécution de la requête\n",
    "results = collection.find(query)"
   ],
   "metadata": {
    "collapsed": false,
    "ExecuteTime": {
     "end_time": "2025-06-29T18:19:17.734209700Z",
     "start_time": "2025-06-29T18:19:17.717120200Z"
    }
   },
   "id": "e2e45e53133710a2"
  },
  {
   "cell_type": "code",
   "execution_count": 9,
   "outputs": [],
   "source": [
    "# Affichage des résultats"
   ],
   "metadata": {
    "collapsed": false,
    "ExecuteTime": {
     "end_time": "2025-06-29T18:19:21.697632400Z",
     "start_time": "2025-06-29T18:19:21.658039700Z"
    }
   },
   "id": "5a7878f59ee48381"
  },
  {
   "cell_type": "code",
   "execution_count": 10,
   "outputs": [
    {
     "name": "stdout",
     "output_type": "stream",
     "text": [
      "{'_id': ObjectId('68618366d99abdc223f09c9c'), 'class_name': 'Mathematics 101', 'teacher': 'John Doe', 'students': [{'name': 'Charlie', 'age': 21, 'grades': {'midterm': 79, 'final': 92}}, {'name': 'Dylan', 'age': 23, 'grades': {'midterm': 79, 'final': 87}}]}\n"
     ]
    }
   ],
   "source": [
    "for doc in results:\n",
    "    print(doc)"
   ],
   "metadata": {
    "collapsed": false,
    "ExecuteTime": {
     "end_time": "2025-06-29T18:19:24.166137600Z",
     "start_time": "2025-06-29T18:19:24.080170Z"
    }
   },
   "id": "476f9bde2036a438"
  },
  {
   "cell_type": "code",
   "execution_count": 11,
   "outputs": [],
   "source": [
    "#Mise à Jour d'un Document Imbriqué : Augmentez de 5 points le final de Bob dans \"Mathematics 101\".\n",
    "update_query = {\n",
    "    \"class_name\": \"Mathematics 101\",\n",
    "    \"students.name\": \"Charlie\"\n",
    "}\n",
    "update_operation = {\n",
    "    \"$inc\": {\"students.$.grades.final\": 5}\n",
    "}\n"
   ],
   "metadata": {
    "collapsed": false,
    "ExecuteTime": {
     "end_time": "2025-06-29T18:19:44.849029600Z",
     "start_time": "2025-06-29T18:19:44.819945600Z"
    }
   },
   "id": "3fe1c6185960ed42"
  },
  {
   "cell_type": "code",
   "execution_count": 12,
   "outputs": [
    {
     "name": "stdout",
     "output_type": "stream",
     "text": [
      "Documents mis à jour : 1\n"
     ]
    }
   ],
   "source": [
    "# Exécution de la mise à jour\n",
    "update_result = collection.update_one(update_query, update_operation)\n",
    "print(f\"Documents mis à jour : {update_result.modified_count}\")"
   ],
   "metadata": {
    "collapsed": false,
    "ExecuteTime": {
     "end_time": "2025-06-29T18:19:53.697313Z",
     "start_time": "2025-06-29T18:19:53.618009100Z"
    }
   },
   "id": "cd65ca1eca512d39"
  },
  {
   "cell_type": "markdown",
   "source": [
    "Partie 4: Ajout et Suppression d'Éléments Imbriqués\n"
   ],
   "metadata": {
    "collapsed": false
   },
   "id": "ee678190a93d0b24"
  },
  {
   "cell_type": "code",
   "execution_count": 13,
   "outputs": [],
   "source": [
    "#Ajout d'un Étudiant : Ajoutez un nouvel étudiant nommé \"Charlie\" avec un age de 23 et un grades de midterm 82, final 88 à \"Mathematics 101\".\n",
    "add_student_query = {\n",
    "    \"class_name\": \"Mathematics 101\"\n",
    "}\n",
    "add_student_operation = {\n",
    "    \"$push\": {\n",
    "        \"students\": {\n",
    "            \"name\": \"Charlie\",\n",
    "            \"age\": 23,\n",
    "            \"grades\": {\"midterm\": 82, \"final\": 88}\n",
    "        }\n",
    "    }\n",
    "}\n"
   ],
   "metadata": {
    "collapsed": false,
    "ExecuteTime": {
     "end_time": "2025-06-29T18:20:45.215683400Z",
     "start_time": "2025-06-29T18:20:45.195029400Z"
    }
   },
   "id": "51467968a796fb90"
  },
  {
   "cell_type": "code",
   "execution_count": 15,
   "outputs": [
    {
     "name": "stdout",
     "output_type": "stream",
     "text": [
      "Documents mis à jour : UpdateResult({'n': 1, 'nModified': 1, 'ok': 1.0, 'updatedExisting': True}, acknowledged=True)\n"
     ]
    }
   ],
   "source": [
    "# Exécution de l'ajout\n",
    "add_result = collection.update_one(add_student_query, add_student_operation)\n",
    "print(f\"Documents mis à jour : {add_result}\")\n"
   ],
   "metadata": {
    "collapsed": false,
    "ExecuteTime": {
     "end_time": "2025-06-29T18:21:01.928362900Z",
     "start_time": "2025-06-29T18:21:01.842624500Z"
    }
   },
   "id": "c7a1cde20692c398"
  },
  {
   "cell_type": "code",
   "execution_count": 16,
   "outputs": [],
   "source": [
    "#Suppression d'un Étudiant : Supprimez l'étudiant Alice de \"Mathematics 101\".\n",
    "remove_student_query = {\n",
    "    \"class_name\": \"Mathematics 101\",\n",
    "    \"students.name\": \"Charlie\"\n",
    "}\n",
    "remove_student_operation = {\n",
    "    \"$pull\": {\n",
    "        \"students\": {\"name\": \"Charlie\"}\n",
    "    }\n",
    "}\n"
   ],
   "metadata": {
    "collapsed": false,
    "ExecuteTime": {
     "end_time": "2025-06-29T18:21:35.507414500Z",
     "start_time": "2025-06-29T18:21:35.463412100Z"
    }
   },
   "id": "b4af4afae6ca00f7"
  },
  {
   "cell_type": "code",
   "execution_count": 17,
   "outputs": [
    {
     "name": "stdout",
     "output_type": "stream",
     "text": [
      "Documents mis à jour : 1\n"
     ]
    }
   ],
   "source": [
    "# Exécution de la suppression\n",
    "remove_result = collection.update_one(remove_student_query, remove_student_operation)\n",
    "print(f\"Documents mis à jour : {remove_result.modified_count}\")"
   ],
   "metadata": {
    "collapsed": false,
    "ExecuteTime": {
     "end_time": "2025-06-29T18:21:45.118038200Z",
     "start_time": "2025-06-29T18:21:45.087039100Z"
    }
   },
   "id": "470a7de07730c5c8"
  },
  {
   "cell_type": "code",
   "execution_count": null,
   "outputs": [],
   "source": [],
   "metadata": {
    "collapsed": false
   },
   "id": "d0a17f8da28d2d5"
  }
 ],
 "metadata": {
  "kernelspec": {
   "display_name": "Python 3",
   "language": "python",
   "name": "python3"
  },
  "language_info": {
   "codemirror_mode": {
    "name": "ipython",
    "version": 2
   },
   "file_extension": ".py",
   "mimetype": "text/x-python",
   "name": "python",
   "nbconvert_exporter": "python",
   "pygments_lexer": "ipython2",
   "version": "2.7.6"
  }
 },
 "nbformat": 4,
 "nbformat_minor": 5
}
