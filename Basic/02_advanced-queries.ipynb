{
 "cells": [
  {
   "cell_type": "code",
   "execution_count": 1,
   "id": "initial_id",
   "metadata": {
    "collapsed": true,
    "ExecuteTime": {
     "end_time": "2025-06-29T17:01:59.760906800Z",
     "start_time": "2025-06-29T17:01:45.341603900Z"
    }
   },
   "outputs": [],
   "source": [
    "import pandas as pd\n",
    "from pymongo import MongoClient\n"
   ]
  },
  {
   "cell_type": "code",
   "execution_count": 2,
   "outputs": [],
   "source": [
    "client = MongoClient(\"mongodb://localhost:27017/\")"
   ],
   "metadata": {
    "collapsed": false,
    "ExecuteTime": {
     "end_time": "2025-06-29T17:01:59.884706100Z",
     "start_time": "2025-06-29T17:01:59.761788800Z"
    }
   },
   "id": "8891233ca1abab47"
  },
  {
   "cell_type": "code",
   "execution_count": 3,
   "outputs": [],
   "source": [
    "db = client[\"TitanicDB\"]"
   ],
   "metadata": {
    "collapsed": false,
    "ExecuteTime": {
     "end_time": "2025-06-29T17:01:59.929440600Z",
     "start_time": "2025-06-29T17:01:59.885883800Z"
    }
   },
   "id": "fce352b66440104c"
  },
  {
   "cell_type": "code",
   "execution_count": 4,
   "outputs": [],
   "source": [
    "collection = db[\"Passagers\"]"
   ],
   "metadata": {
    "collapsed": false,
    "ExecuteTime": {
     "end_time": "2025-06-29T17:01:59.974362600Z",
     "start_time": "2025-06-29T17:01:59.924820900Z"
    }
   },
   "id": "db6c545fdc2e7fcb"
  },
  {
   "cell_type": "code",
   "execution_count": 4,
   "outputs": [],
   "source": [],
   "metadata": {
    "collapsed": false,
    "ExecuteTime": {
     "end_time": "2025-06-29T17:01:59.996475200Z",
     "start_time": "2025-06-29T17:01:59.951927400Z"
    }
   },
   "id": "d84a66e84af80889"
  },
  {
   "cell_type": "code",
   "execution_count": 5,
   "outputs": [],
   "source": [
    "df_titanic = pd.read_csv(\"../../DATA/tested.csv\")"
   ],
   "metadata": {
    "collapsed": false,
    "ExecuteTime": {
     "end_time": "2025-06-29T17:02:00.074418800Z",
     "start_time": "2025-06-29T17:01:59.967853600Z"
    }
   },
   "id": "3a10c4733440cb67"
  },
  {
   "cell_type": "code",
   "execution_count": 6,
   "outputs": [
    {
     "data": {
      "text/plain": "   PassengerId  Survived  Pclass  \\\n0          892         0       3   \n1          893         1       3   \n2          894         0       2   \n3          895         0       3   \n4          896         1       3   \n\n                                           Name     Sex   Age  SibSp  Parch  \\\n0                              Kelly, Mr. James    male  34.5      0      0   \n1              Wilkes, Mrs. James (Ellen Needs)  female  47.0      1      0   \n2                     Myles, Mr. Thomas Francis    male  62.0      0      0   \n3                              Wirz, Mr. Albert    male  27.0      0      0   \n4  Hirvonen, Mrs. Alexander (Helga E Lindqvist)  female  22.0      1      1   \n\n    Ticket     Fare Cabin Embarked  \n0   330911   7.8292   NaN        Q  \n1   363272   7.0000   NaN        S  \n2   240276   9.6875   NaN        Q  \n3   315154   8.6625   NaN        S  \n4  3101298  12.2875   NaN        S  ",
      "text/html": "<div>\n<style scoped>\n    .dataframe tbody tr th:only-of-type {\n        vertical-align: middle;\n    }\n\n    .dataframe tbody tr th {\n        vertical-align: top;\n    }\n\n    .dataframe thead th {\n        text-align: right;\n    }\n</style>\n<table border=\"1\" class=\"dataframe\">\n  <thead>\n    <tr style=\"text-align: right;\">\n      <th></th>\n      <th>PassengerId</th>\n      <th>Survived</th>\n      <th>Pclass</th>\n      <th>Name</th>\n      <th>Sex</th>\n      <th>Age</th>\n      <th>SibSp</th>\n      <th>Parch</th>\n      <th>Ticket</th>\n      <th>Fare</th>\n      <th>Cabin</th>\n      <th>Embarked</th>\n    </tr>\n  </thead>\n  <tbody>\n    <tr>\n      <th>0</th>\n      <td>892</td>\n      <td>0</td>\n      <td>3</td>\n      <td>Kelly, Mr. James</td>\n      <td>male</td>\n      <td>34.5</td>\n      <td>0</td>\n      <td>0</td>\n      <td>330911</td>\n      <td>7.8292</td>\n      <td>NaN</td>\n      <td>Q</td>\n    </tr>\n    <tr>\n      <th>1</th>\n      <td>893</td>\n      <td>1</td>\n      <td>3</td>\n      <td>Wilkes, Mrs. James (Ellen Needs)</td>\n      <td>female</td>\n      <td>47.0</td>\n      <td>1</td>\n      <td>0</td>\n      <td>363272</td>\n      <td>7.0000</td>\n      <td>NaN</td>\n      <td>S</td>\n    </tr>\n    <tr>\n      <th>2</th>\n      <td>894</td>\n      <td>0</td>\n      <td>2</td>\n      <td>Myles, Mr. Thomas Francis</td>\n      <td>male</td>\n      <td>62.0</td>\n      <td>0</td>\n      <td>0</td>\n      <td>240276</td>\n      <td>9.6875</td>\n      <td>NaN</td>\n      <td>Q</td>\n    </tr>\n    <tr>\n      <th>3</th>\n      <td>895</td>\n      <td>0</td>\n      <td>3</td>\n      <td>Wirz, Mr. Albert</td>\n      <td>male</td>\n      <td>27.0</td>\n      <td>0</td>\n      <td>0</td>\n      <td>315154</td>\n      <td>8.6625</td>\n      <td>NaN</td>\n      <td>S</td>\n    </tr>\n    <tr>\n      <th>4</th>\n      <td>896</td>\n      <td>1</td>\n      <td>3</td>\n      <td>Hirvonen, Mrs. Alexander (Helga E Lindqvist)</td>\n      <td>female</td>\n      <td>22.0</td>\n      <td>1</td>\n      <td>1</td>\n      <td>3101298</td>\n      <td>12.2875</td>\n      <td>NaN</td>\n      <td>S</td>\n    </tr>\n  </tbody>\n</table>\n</div>"
     },
     "execution_count": 6,
     "metadata": {},
     "output_type": "execute_result"
    }
   ],
   "source": [
    "df_titanic.head()"
   ],
   "metadata": {
    "collapsed": false,
    "ExecuteTime": {
     "end_time": "2025-06-29T17:02:00.185859800Z",
     "start_time": "2025-06-29T17:02:00.078711200Z"
    }
   },
   "id": "5241b130c603bc79"
  },
  {
   "cell_type": "code",
   "execution_count": 7,
   "outputs": [
    {
     "data": {
      "text/plain": "InsertManyResult([ObjectId('68617188fabf04e0b85fb17e'), ObjectId('68617188fabf04e0b85fb17f'), ObjectId('68617188fabf04e0b85fb180'), ObjectId('68617188fabf04e0b85fb181'), ObjectId('68617188fabf04e0b85fb182'), ObjectId('68617188fabf04e0b85fb183'), ObjectId('68617188fabf04e0b85fb184'), ObjectId('68617188fabf04e0b85fb185'), ObjectId('68617188fabf04e0b85fb186'), ObjectId('68617188fabf04e0b85fb187'), ObjectId('68617188fabf04e0b85fb188'), ObjectId('68617188fabf04e0b85fb189'), ObjectId('68617188fabf04e0b85fb18a'), ObjectId('68617188fabf04e0b85fb18b'), ObjectId('68617188fabf04e0b85fb18c'), ObjectId('68617188fabf04e0b85fb18d'), ObjectId('68617188fabf04e0b85fb18e'), ObjectId('68617188fabf04e0b85fb18f'), ObjectId('68617188fabf04e0b85fb190'), ObjectId('68617188fabf04e0b85fb191'), ObjectId('68617188fabf04e0b85fb192'), ObjectId('68617188fabf04e0b85fb193'), ObjectId('68617188fabf04e0b85fb194'), ObjectId('68617188fabf04e0b85fb195'), ObjectId('68617188fabf04e0b85fb196'), ObjectId('68617188fabf04e0b85fb197'), ObjectId('68617188fabf04e0b85fb198'), ObjectId('68617188fabf04e0b85fb199'), ObjectId('68617188fabf04e0b85fb19a'), ObjectId('68617188fabf04e0b85fb19b'), ObjectId('68617188fabf04e0b85fb19c'), ObjectId('68617188fabf04e0b85fb19d'), ObjectId('68617188fabf04e0b85fb19e'), ObjectId('68617188fabf04e0b85fb19f'), ObjectId('68617188fabf04e0b85fb1a0'), ObjectId('68617188fabf04e0b85fb1a1'), ObjectId('68617188fabf04e0b85fb1a2'), ObjectId('68617188fabf04e0b85fb1a3'), ObjectId('68617188fabf04e0b85fb1a4'), ObjectId('68617188fabf04e0b85fb1a5'), ObjectId('68617188fabf04e0b85fb1a6'), ObjectId('68617188fabf04e0b85fb1a7'), ObjectId('68617188fabf04e0b85fb1a8'), ObjectId('68617188fabf04e0b85fb1a9'), ObjectId('68617188fabf04e0b85fb1aa'), ObjectId('68617188fabf04e0b85fb1ab'), ObjectId('68617188fabf04e0b85fb1ac'), ObjectId('68617188fabf04e0b85fb1ad'), ObjectId('68617188fabf04e0b85fb1ae'), ObjectId('68617188fabf04e0b85fb1af'), ObjectId('68617188fabf04e0b85fb1b0'), ObjectId('68617188fabf04e0b85fb1b1'), ObjectId('68617188fabf04e0b85fb1b2'), ObjectId('68617188fabf04e0b85fb1b3'), ObjectId('68617188fabf04e0b85fb1b4'), ObjectId('68617188fabf04e0b85fb1b5'), ObjectId('68617188fabf04e0b85fb1b6'), ObjectId('68617188fabf04e0b85fb1b7'), ObjectId('68617188fabf04e0b85fb1b8'), ObjectId('68617188fabf04e0b85fb1b9'), ObjectId('68617188fabf04e0b85fb1ba'), ObjectId('68617188fabf04e0b85fb1bb'), ObjectId('68617188fabf04e0b85fb1bc'), ObjectId('68617188fabf04e0b85fb1bd'), ObjectId('68617188fabf04e0b85fb1be'), ObjectId('68617188fabf04e0b85fb1bf'), ObjectId('68617188fabf04e0b85fb1c0'), ObjectId('68617188fabf04e0b85fb1c1'), ObjectId('68617188fabf04e0b85fb1c2'), ObjectId('68617188fabf04e0b85fb1c3'), ObjectId('68617188fabf04e0b85fb1c4'), ObjectId('68617188fabf04e0b85fb1c5'), ObjectId('68617188fabf04e0b85fb1c6'), ObjectId('68617188fabf04e0b85fb1c7'), ObjectId('68617188fabf04e0b85fb1c8'), ObjectId('68617188fabf04e0b85fb1c9'), ObjectId('68617188fabf04e0b85fb1ca'), ObjectId('68617188fabf04e0b85fb1cb'), ObjectId('68617188fabf04e0b85fb1cc'), ObjectId('68617188fabf04e0b85fb1cd'), ObjectId('68617188fabf04e0b85fb1ce'), ObjectId('68617188fabf04e0b85fb1cf'), ObjectId('68617188fabf04e0b85fb1d0'), ObjectId('68617188fabf04e0b85fb1d1'), ObjectId('68617188fabf04e0b85fb1d2'), ObjectId('68617188fabf04e0b85fb1d3'), ObjectId('68617188fabf04e0b85fb1d4'), ObjectId('68617188fabf04e0b85fb1d5'), ObjectId('68617188fabf04e0b85fb1d6'), ObjectId('68617188fabf04e0b85fb1d7'), ObjectId('68617188fabf04e0b85fb1d8'), ObjectId('68617188fabf04e0b85fb1d9'), ObjectId('68617188fabf04e0b85fb1da'), ObjectId('68617188fabf04e0b85fb1db'), ObjectId('68617188fabf04e0b85fb1dc'), ObjectId('68617188fabf04e0b85fb1dd'), ObjectId('68617188fabf04e0b85fb1de'), ObjectId('68617188fabf04e0b85fb1df'), ObjectId('68617188fabf04e0b85fb1e0'), ObjectId('68617188fabf04e0b85fb1e1'), ObjectId('68617188fabf04e0b85fb1e2'), ObjectId('68617188fabf04e0b85fb1e3'), ObjectId('68617188fabf04e0b85fb1e4'), ObjectId('68617188fabf04e0b85fb1e5'), ObjectId('68617188fabf04e0b85fb1e6'), ObjectId('68617188fabf04e0b85fb1e7'), ObjectId('68617188fabf04e0b85fb1e8'), ObjectId('68617188fabf04e0b85fb1e9'), ObjectId('68617188fabf04e0b85fb1ea'), ObjectId('68617188fabf04e0b85fb1eb'), ObjectId('68617188fabf04e0b85fb1ec'), ObjectId('68617188fabf04e0b85fb1ed'), ObjectId('68617188fabf04e0b85fb1ee'), ObjectId('68617188fabf04e0b85fb1ef'), ObjectId('68617188fabf04e0b85fb1f0'), ObjectId('68617188fabf04e0b85fb1f1'), ObjectId('68617188fabf04e0b85fb1f2'), ObjectId('68617188fabf04e0b85fb1f3'), ObjectId('68617188fabf04e0b85fb1f4'), ObjectId('68617188fabf04e0b85fb1f5'), ObjectId('68617188fabf04e0b85fb1f6'), ObjectId('68617188fabf04e0b85fb1f7'), ObjectId('68617188fabf04e0b85fb1f8'), ObjectId('68617188fabf04e0b85fb1f9'), ObjectId('68617188fabf04e0b85fb1fa'), ObjectId('68617188fabf04e0b85fb1fb'), ObjectId('68617188fabf04e0b85fb1fc'), ObjectId('68617188fabf04e0b85fb1fd'), ObjectId('68617188fabf04e0b85fb1fe'), ObjectId('68617188fabf04e0b85fb1ff'), ObjectId('68617188fabf04e0b85fb200'), ObjectId('68617188fabf04e0b85fb201'), ObjectId('68617188fabf04e0b85fb202'), ObjectId('68617188fabf04e0b85fb203'), ObjectId('68617188fabf04e0b85fb204'), ObjectId('68617188fabf04e0b85fb205'), ObjectId('68617188fabf04e0b85fb206'), ObjectId('68617188fabf04e0b85fb207'), ObjectId('68617188fabf04e0b85fb208'), ObjectId('68617188fabf04e0b85fb209'), ObjectId('68617188fabf04e0b85fb20a'), ObjectId('68617188fabf04e0b85fb20b'), ObjectId('68617188fabf04e0b85fb20c'), ObjectId('68617188fabf04e0b85fb20d'), ObjectId('68617188fabf04e0b85fb20e'), ObjectId('68617188fabf04e0b85fb20f'), ObjectId('68617188fabf04e0b85fb210'), ObjectId('68617188fabf04e0b85fb211'), ObjectId('68617188fabf04e0b85fb212'), ObjectId('68617188fabf04e0b85fb213'), ObjectId('68617188fabf04e0b85fb214'), ObjectId('68617188fabf04e0b85fb215'), ObjectId('68617188fabf04e0b85fb216'), ObjectId('68617188fabf04e0b85fb217'), ObjectId('68617188fabf04e0b85fb218'), ObjectId('68617188fabf04e0b85fb219'), ObjectId('68617188fabf04e0b85fb21a'), ObjectId('68617188fabf04e0b85fb21b'), ObjectId('68617188fabf04e0b85fb21c'), ObjectId('68617188fabf04e0b85fb21d'), ObjectId('68617188fabf04e0b85fb21e'), ObjectId('68617188fabf04e0b85fb21f'), ObjectId('68617188fabf04e0b85fb220'), ObjectId('68617188fabf04e0b85fb221'), ObjectId('68617188fabf04e0b85fb222'), ObjectId('68617188fabf04e0b85fb223'), ObjectId('68617188fabf04e0b85fb224'), ObjectId('68617188fabf04e0b85fb225'), ObjectId('68617188fabf04e0b85fb226'), ObjectId('68617188fabf04e0b85fb227'), ObjectId('68617188fabf04e0b85fb228'), ObjectId('68617188fabf04e0b85fb229'), ObjectId('68617188fabf04e0b85fb22a'), ObjectId('68617188fabf04e0b85fb22b'), ObjectId('68617188fabf04e0b85fb22c'), ObjectId('68617188fabf04e0b85fb22d'), ObjectId('68617188fabf04e0b85fb22e'), ObjectId('68617188fabf04e0b85fb22f'), ObjectId('68617188fabf04e0b85fb230'), ObjectId('68617188fabf04e0b85fb231'), ObjectId('68617188fabf04e0b85fb232'), ObjectId('68617188fabf04e0b85fb233'), ObjectId('68617188fabf04e0b85fb234'), ObjectId('68617188fabf04e0b85fb235'), ObjectId('68617188fabf04e0b85fb236'), ObjectId('68617188fabf04e0b85fb237'), ObjectId('68617188fabf04e0b85fb238'), ObjectId('68617188fabf04e0b85fb239'), ObjectId('68617188fabf04e0b85fb23a'), ObjectId('68617188fabf04e0b85fb23b'), ObjectId('68617188fabf04e0b85fb23c'), ObjectId('68617188fabf04e0b85fb23d'), ObjectId('68617188fabf04e0b85fb23e'), ObjectId('68617188fabf04e0b85fb23f'), ObjectId('68617188fabf04e0b85fb240'), ObjectId('68617188fabf04e0b85fb241'), ObjectId('68617188fabf04e0b85fb242'), ObjectId('68617188fabf04e0b85fb243'), ObjectId('68617188fabf04e0b85fb244'), ObjectId('68617188fabf04e0b85fb245'), ObjectId('68617188fabf04e0b85fb246'), ObjectId('68617188fabf04e0b85fb247'), ObjectId('68617188fabf04e0b85fb248'), ObjectId('68617188fabf04e0b85fb249'), ObjectId('68617188fabf04e0b85fb24a'), ObjectId('68617188fabf04e0b85fb24b'), ObjectId('68617188fabf04e0b85fb24c'), ObjectId('68617188fabf04e0b85fb24d'), ObjectId('68617188fabf04e0b85fb24e'), ObjectId('68617188fabf04e0b85fb24f'), ObjectId('68617188fabf04e0b85fb250'), ObjectId('68617188fabf04e0b85fb251'), ObjectId('68617188fabf04e0b85fb252'), ObjectId('68617188fabf04e0b85fb253'), ObjectId('68617188fabf04e0b85fb254'), ObjectId('68617188fabf04e0b85fb255'), ObjectId('68617188fabf04e0b85fb256'), ObjectId('68617188fabf04e0b85fb257'), ObjectId('68617188fabf04e0b85fb258'), ObjectId('68617188fabf04e0b85fb259'), ObjectId('68617188fabf04e0b85fb25a'), ObjectId('68617188fabf04e0b85fb25b'), ObjectId('68617188fabf04e0b85fb25c'), ObjectId('68617188fabf04e0b85fb25d'), ObjectId('68617188fabf04e0b85fb25e'), ObjectId('68617188fabf04e0b85fb25f'), ObjectId('68617188fabf04e0b85fb260'), ObjectId('68617188fabf04e0b85fb261'), ObjectId('68617188fabf04e0b85fb262'), ObjectId('68617188fabf04e0b85fb263'), ObjectId('68617188fabf04e0b85fb264'), ObjectId('68617188fabf04e0b85fb265'), ObjectId('68617188fabf04e0b85fb266'), ObjectId('68617188fabf04e0b85fb267'), ObjectId('68617188fabf04e0b85fb268'), ObjectId('68617188fabf04e0b85fb269'), ObjectId('68617188fabf04e0b85fb26a'), ObjectId('68617188fabf04e0b85fb26b'), ObjectId('68617188fabf04e0b85fb26c'), ObjectId('68617188fabf04e0b85fb26d'), ObjectId('68617188fabf04e0b85fb26e'), ObjectId('68617188fabf04e0b85fb26f'), ObjectId('68617188fabf04e0b85fb270'), ObjectId('68617188fabf04e0b85fb271'), ObjectId('68617188fabf04e0b85fb272'), ObjectId('68617188fabf04e0b85fb273'), ObjectId('68617188fabf04e0b85fb274'), ObjectId('68617188fabf04e0b85fb275'), ObjectId('68617188fabf04e0b85fb276'), ObjectId('68617188fabf04e0b85fb277'), ObjectId('68617188fabf04e0b85fb278'), ObjectId('68617188fabf04e0b85fb279'), ObjectId('68617188fabf04e0b85fb27a'), ObjectId('68617188fabf04e0b85fb27b'), ObjectId('68617188fabf04e0b85fb27c'), ObjectId('68617188fabf04e0b85fb27d'), ObjectId('68617188fabf04e0b85fb27e'), ObjectId('68617188fabf04e0b85fb27f'), ObjectId('68617188fabf04e0b85fb280'), ObjectId('68617188fabf04e0b85fb281'), ObjectId('68617188fabf04e0b85fb282'), ObjectId('68617188fabf04e0b85fb283'), ObjectId('68617188fabf04e0b85fb284'), ObjectId('68617188fabf04e0b85fb285'), ObjectId('68617188fabf04e0b85fb286'), ObjectId('68617188fabf04e0b85fb287'), ObjectId('68617188fabf04e0b85fb288'), ObjectId('68617188fabf04e0b85fb289'), ObjectId('68617188fabf04e0b85fb28a'), ObjectId('68617188fabf04e0b85fb28b'), ObjectId('68617188fabf04e0b85fb28c'), ObjectId('68617188fabf04e0b85fb28d'), ObjectId('68617188fabf04e0b85fb28e'), ObjectId('68617188fabf04e0b85fb28f'), ObjectId('68617188fabf04e0b85fb290'), ObjectId('68617188fabf04e0b85fb291'), ObjectId('68617188fabf04e0b85fb292'), ObjectId('68617188fabf04e0b85fb293'), ObjectId('68617188fabf04e0b85fb294'), ObjectId('68617188fabf04e0b85fb295'), ObjectId('68617188fabf04e0b85fb296'), ObjectId('68617188fabf04e0b85fb297'), ObjectId('68617188fabf04e0b85fb298'), ObjectId('68617188fabf04e0b85fb299'), ObjectId('68617188fabf04e0b85fb29a'), ObjectId('68617188fabf04e0b85fb29b'), ObjectId('68617188fabf04e0b85fb29c'), ObjectId('68617188fabf04e0b85fb29d'), ObjectId('68617188fabf04e0b85fb29e'), ObjectId('68617188fabf04e0b85fb29f'), ObjectId('68617188fabf04e0b85fb2a0'), ObjectId('68617188fabf04e0b85fb2a1'), ObjectId('68617188fabf04e0b85fb2a2'), ObjectId('68617188fabf04e0b85fb2a3'), ObjectId('68617188fabf04e0b85fb2a4'), ObjectId('68617188fabf04e0b85fb2a5'), ObjectId('68617188fabf04e0b85fb2a6'), ObjectId('68617188fabf04e0b85fb2a7'), ObjectId('68617188fabf04e0b85fb2a8'), ObjectId('68617188fabf04e0b85fb2a9'), ObjectId('68617188fabf04e0b85fb2aa'), ObjectId('68617188fabf04e0b85fb2ab'), ObjectId('68617188fabf04e0b85fb2ac'), ObjectId('68617188fabf04e0b85fb2ad'), ObjectId('68617188fabf04e0b85fb2ae'), ObjectId('68617188fabf04e0b85fb2af'), ObjectId('68617188fabf04e0b85fb2b0'), ObjectId('68617188fabf04e0b85fb2b1'), ObjectId('68617188fabf04e0b85fb2b2'), ObjectId('68617188fabf04e0b85fb2b3'), ObjectId('68617188fabf04e0b85fb2b4'), ObjectId('68617188fabf04e0b85fb2b5'), ObjectId('68617188fabf04e0b85fb2b6'), ObjectId('68617188fabf04e0b85fb2b7'), ObjectId('68617188fabf04e0b85fb2b8'), ObjectId('68617188fabf04e0b85fb2b9'), ObjectId('68617188fabf04e0b85fb2ba'), ObjectId('68617188fabf04e0b85fb2bb'), ObjectId('68617188fabf04e0b85fb2bc'), ObjectId('68617188fabf04e0b85fb2bd'), ObjectId('68617188fabf04e0b85fb2be'), ObjectId('68617188fabf04e0b85fb2bf'), ObjectId('68617188fabf04e0b85fb2c0'), ObjectId('68617188fabf04e0b85fb2c1'), ObjectId('68617188fabf04e0b85fb2c2'), ObjectId('68617188fabf04e0b85fb2c3'), ObjectId('68617188fabf04e0b85fb2c4'), ObjectId('68617188fabf04e0b85fb2c5'), ObjectId('68617188fabf04e0b85fb2c6'), ObjectId('68617188fabf04e0b85fb2c7'), ObjectId('68617188fabf04e0b85fb2c8'), ObjectId('68617188fabf04e0b85fb2c9'), ObjectId('68617188fabf04e0b85fb2ca'), ObjectId('68617188fabf04e0b85fb2cb'), ObjectId('68617188fabf04e0b85fb2cc'), ObjectId('68617188fabf04e0b85fb2cd'), ObjectId('68617188fabf04e0b85fb2ce'), ObjectId('68617188fabf04e0b85fb2cf'), ObjectId('68617188fabf04e0b85fb2d0'), ObjectId('68617188fabf04e0b85fb2d1'), ObjectId('68617188fabf04e0b85fb2d2'), ObjectId('68617188fabf04e0b85fb2d3'), ObjectId('68617188fabf04e0b85fb2d4'), ObjectId('68617188fabf04e0b85fb2d5'), ObjectId('68617188fabf04e0b85fb2d6'), ObjectId('68617188fabf04e0b85fb2d7'), ObjectId('68617188fabf04e0b85fb2d8'), ObjectId('68617188fabf04e0b85fb2d9'), ObjectId('68617188fabf04e0b85fb2da'), ObjectId('68617188fabf04e0b85fb2db'), ObjectId('68617188fabf04e0b85fb2dc'), ObjectId('68617188fabf04e0b85fb2dd'), ObjectId('68617188fabf04e0b85fb2de'), ObjectId('68617188fabf04e0b85fb2df'), ObjectId('68617188fabf04e0b85fb2e0'), ObjectId('68617188fabf04e0b85fb2e1'), ObjectId('68617188fabf04e0b85fb2e2'), ObjectId('68617188fabf04e0b85fb2e3'), ObjectId('68617188fabf04e0b85fb2e4'), ObjectId('68617188fabf04e0b85fb2e5'), ObjectId('68617188fabf04e0b85fb2e6'), ObjectId('68617188fabf04e0b85fb2e7'), ObjectId('68617188fabf04e0b85fb2e8'), ObjectId('68617188fabf04e0b85fb2e9'), ObjectId('68617188fabf04e0b85fb2ea'), ObjectId('68617188fabf04e0b85fb2eb'), ObjectId('68617188fabf04e0b85fb2ec'), ObjectId('68617188fabf04e0b85fb2ed'), ObjectId('68617188fabf04e0b85fb2ee'), ObjectId('68617188fabf04e0b85fb2ef'), ObjectId('68617188fabf04e0b85fb2f0'), ObjectId('68617188fabf04e0b85fb2f1'), ObjectId('68617188fabf04e0b85fb2f2'), ObjectId('68617188fabf04e0b85fb2f3'), ObjectId('68617188fabf04e0b85fb2f4'), ObjectId('68617188fabf04e0b85fb2f5'), ObjectId('68617188fabf04e0b85fb2f6'), ObjectId('68617188fabf04e0b85fb2f7'), ObjectId('68617188fabf04e0b85fb2f8'), ObjectId('68617188fabf04e0b85fb2f9'), ObjectId('68617188fabf04e0b85fb2fa'), ObjectId('68617188fabf04e0b85fb2fb'), ObjectId('68617188fabf04e0b85fb2fc'), ObjectId('68617188fabf04e0b85fb2fd'), ObjectId('68617188fabf04e0b85fb2fe'), ObjectId('68617188fabf04e0b85fb2ff'), ObjectId('68617188fabf04e0b85fb300'), ObjectId('68617188fabf04e0b85fb301'), ObjectId('68617188fabf04e0b85fb302'), ObjectId('68617188fabf04e0b85fb303'), ObjectId('68617188fabf04e0b85fb304'), ObjectId('68617188fabf04e0b85fb305'), ObjectId('68617188fabf04e0b85fb306'), ObjectId('68617188fabf04e0b85fb307'), ObjectId('68617188fabf04e0b85fb308'), ObjectId('68617188fabf04e0b85fb309'), ObjectId('68617188fabf04e0b85fb30a'), ObjectId('68617188fabf04e0b85fb30b'), ObjectId('68617188fabf04e0b85fb30c'), ObjectId('68617188fabf04e0b85fb30d'), ObjectId('68617188fabf04e0b85fb30e'), ObjectId('68617188fabf04e0b85fb30f'), ObjectId('68617188fabf04e0b85fb310'), ObjectId('68617188fabf04e0b85fb311'), ObjectId('68617188fabf04e0b85fb312'), ObjectId('68617188fabf04e0b85fb313'), ObjectId('68617188fabf04e0b85fb314'), ObjectId('68617188fabf04e0b85fb315'), ObjectId('68617188fabf04e0b85fb316'), ObjectId('68617188fabf04e0b85fb317'), ObjectId('68617188fabf04e0b85fb318'), ObjectId('68617188fabf04e0b85fb319'), ObjectId('68617188fabf04e0b85fb31a'), ObjectId('68617188fabf04e0b85fb31b'), ObjectId('68617188fabf04e0b85fb31c'), ObjectId('68617188fabf04e0b85fb31d'), ObjectId('68617188fabf04e0b85fb31e'), ObjectId('68617188fabf04e0b85fb31f')], acknowledged=True)"
     },
     "execution_count": 7,
     "metadata": {},
     "output_type": "execute_result"
    }
   ],
   "source": [
    "collection.insert_many(df_titanic.to_dict(\"records\"))"
   ],
   "metadata": {
    "collapsed": false,
    "ExecuteTime": {
     "end_time": "2025-06-29T17:02:00.715497Z",
     "start_time": "2025-06-29T17:02:00.359890900Z"
    }
   },
   "id": "e7a40a74089f5dcb"
  },
  {
   "cell_type": "markdown",
   "source": [
    "Exercice 2: Analyse des Données\n"
   ],
   "metadata": {
    "collapsed": false
   },
   "id": "c25764ae08bceaf0"
  },
  {
   "cell_type": "code",
   "execution_count": 8,
   "outputs": [
    {
     "name": "stdout",
     "output_type": "stream",
     "text": [
      "Total number of passengers: 836\n"
     ]
    }
   ],
   "source": [
    "#Comptez le nombre total de passagers.\n",
    "total_passengers = collection.count_documents({})\n",
    "print(f\"Total number of passengers: {total_passengers}\")"
   ],
   "metadata": {
    "collapsed": false,
    "ExecuteTime": {
     "end_time": "2025-06-29T17:02:01.008821400Z",
     "start_time": "2025-06-29T17:02:00.642495500Z"
    }
   },
   "id": "3ea919f8ef9fbd3f"
  },
  {
   "cell_type": "code",
   "execution_count": 9,
   "outputs": [
    {
     "name": "stdout",
     "output_type": "stream",
     "text": [
      "Number of survivors: 304\n"
     ]
    }
   ],
   "source": [
    "#Trouvez combien de passagers ont survécu.\n",
    "survivors_count = collection.count_documents({\"Survived\": 1})\n",
    "print(f\"Number of survivors: {survivors_count}\")"
   ],
   "metadata": {
    "collapsed": false,
    "ExecuteTime": {
     "end_time": "2025-06-29T17:02:01.082010900Z",
     "start_time": "2025-06-29T17:02:01.014441800Z"
    }
   },
   "id": "d55f623b8087e723"
  },
  {
   "cell_type": "code",
   "execution_count": 10,
   "outputs": [
    {
     "data": {
      "text/plain": "304"
     },
     "execution_count": 10,
     "metadata": {},
     "output_type": "execute_result"
    }
   ],
   "source": [
    "#Trouvez le nombre de passagers femmes.\n",
    "femme_count = collection.count_documents({\"Sex\": \"female\"})\n",
    "femme_count"
   ],
   "metadata": {
    "collapsed": false,
    "ExecuteTime": {
     "end_time": "2025-06-29T17:02:01.112694800Z",
     "start_time": "2025-06-29T17:02:01.062860400Z"
    }
   },
   "id": "f68655f2fa2374b0"
  },
  {
   "cell_type": "code",
   "execution_count": 11,
   "outputs": [
    {
     "name": "stdout",
     "output_type": "stream",
     "text": [
      "Number of passengers with at least 3 children: 22\n"
     ]
    }
   ],
   "source": [
    "#Trouvez le nombre de passagers avec au moins 3 enfants.\n",
    "enfants_count = collection.count_documents({\"SibSp\": {\"$gte\": 3}})\n",
    "print(f\"Number of passengers with at least 3 children: {enfants_count}\")"
   ],
   "metadata": {
    "collapsed": false,
    "ExecuteTime": {
     "end_time": "2025-06-29T17:02:01.161511200Z",
     "start_time": "2025-06-29T17:02:01.092036500Z"
    }
   },
   "id": "8e7fab0ca6d60ced"
  },
  {
   "cell_type": "markdown",
   "source": [
    "Exercice 3: Mise à Jour de Données"
   ],
   "metadata": {
    "collapsed": false
   },
   "id": "74028ae41bb10b91"
  },
  {
   "cell_type": "code",
   "execution_count": 12,
   "outputs": [
    {
     "data": {
      "text/plain": "UpdateResult({'n': 0, 'nModified': 0, 'ok': 1.0, 'updatedExisting': False}, acknowledged=True)"
     },
     "execution_count": 12,
     "metadata": {},
     "output_type": "execute_result"
    }
   ],
   "source": [
    "#Mettez à jour les documents pour lesquels le port d'embarquement est manquant, en supposant qu'ils sont montés à bord à Southampton.\n",
    "collection.update_many(\n",
    "    {\"Embarked\": {\"$exists\": False}},\n",
    "    {\"$set\": {\"Embarked\": \"S\"}}\n",
    ")"
   ],
   "metadata": {
    "collapsed": false,
    "ExecuteTime": {
     "end_time": "2025-06-29T17:05:25.796267600Z",
     "start_time": "2025-06-29T17:05:25.649854800Z"
    }
   },
   "id": "5ae6a1ecad159525"
  },
  {
   "cell_type": "code",
   "execution_count": 13,
   "outputs": [
    {
     "data": {
      "text/plain": "UpdateResult({'n': 304, 'nModified': 304, 'ok': 1.0, 'updatedExisting': True}, acknowledged=True)"
     },
     "execution_count": 13,
     "metadata": {},
     "output_type": "execute_result"
    }
   ],
   "source": [
    "#Ajoutez un champ rescued avec la valeur true pour tous les passagers qui ont survécu.\n",
    "collection.update_many(\n",
    "    {\"Survived\": 1},\n",
    "    {\"$set\": {\"rescued\": True}}\n",
    ")"
   ],
   "metadata": {
    "collapsed": false,
    "ExecuteTime": {
     "end_time": "2025-06-29T17:06:44.257659Z",
     "start_time": "2025-06-29T17:06:44.190684600Z"
    }
   },
   "id": "f4277f32cba6f1eb"
  },
  {
   "cell_type": "markdown",
   "source": [
    "Exercice 4: Requêtes Complexes"
   ],
   "metadata": {
    "collapsed": false
   },
   "id": "5b9e29e118daee64"
  },
  {
   "cell_type": "code",
   "execution_count": 14,
   "outputs": [],
   "source": [
    "#Sélectionnez les noms des 10 passagers les plus jeunes.\n",
    "youngest_passengers = collection.find().sort(\"Age\", 1).limit(10)"
   ],
   "metadata": {
    "collapsed": false,
    "ExecuteTime": {
     "end_time": "2025-06-29T17:07:45.074203700Z",
     "start_time": "2025-06-29T17:07:44.801303400Z"
    }
   },
   "id": "d6f92f4754108ad9"
  },
  {
   "cell_type": "code",
   "execution_count": 15,
   "outputs": [
    {
     "name": "stdout",
     "output_type": "stream",
     "text": [
      "Johnston, Mrs. Andrew G (Elizabeth Lily\" Watson)\" nan\n",
      "Samaan, Mr. Elias nan\n",
      "Shaughnessy, Mr. Patrick nan\n",
      "Roth, Miss. Sarah A nan\n",
      "Flegenheim, Mrs. Alfred (Antoinette) nan\n",
      "Hee, Mr. Ling nan\n",
      "Davison, Mr. Thomas Henry nan\n",
      "Mangiavacchi, Mr. Serafino Emilio nan\n",
      "Franklin, Mr. Thomas Parham nan\n",
      "Ilieff, Mr. Ylio nan\n"
     ]
    }
   ],
   "source": [
    "for passenger in youngest_passengers:\n",
    "    print(passenger[\"Name\"], passenger[\"Age\"])"
   ],
   "metadata": {
    "collapsed": false,
    "ExecuteTime": {
     "end_time": "2025-06-29T17:08:02.926512900Z",
     "start_time": "2025-06-29T17:08:02.858859900Z"
    }
   },
   "id": "56e4156055984e46"
  },
  {
   "cell_type": "code",
   "execution_count": 16,
   "outputs": [],
   "source": [
    "#Identifiez les passagers qui n'ont pas survécu et qui étaient dans la 2e classe\n",
    "non_survivors_second_class = collection.find(\n",
    "    {\"Survived\": 0, \"Pclass\": 2}\n",
    ")"
   ],
   "metadata": {
    "collapsed": false,
    "ExecuteTime": {
     "end_time": "2025-06-29T17:08:38.181378300Z",
     "start_time": "2025-06-29T17:08:38.118269200Z"
    }
   },
   "id": "685ec24b3dfa2a49"
  },
  {
   "cell_type": "code",
   "execution_count": 17,
   "outputs": [
    {
     "name": "stdout",
     "output_type": "stream",
     "text": [
      "Myles, Mr. Thomas Francis 2 0\n",
      "Caldwell, Mr. Albert Francis 2 0\n",
      "Howard, Mr. Benjamin 2 0\n",
      "Keane, Mr. Daniel 2 0\n",
      "Louch, Mr. Charles Alexander 2 0\n",
      "Jefferys, Mr. Clifford Thomas 2 0\n",
      "Pulbaum, Mr. Franz 2 0\n",
      "Mangiavacchi, Mr. Serafino Emilio 2 0\n",
      "McCrae, Mr. Arthur Gordon 2 0\n",
      "Aldworth, Mr. Charles Augustus 2 0\n",
      "Lamb, Mr. John Joseph 2 0\n",
      "Wells, Master. Ralph Lester 2 0\n",
      "Weisz, Mr. Leopold 2 0\n",
      "Swane, Mr. George 2 0\n",
      "Stanton, Mr. Samuel Ward 2 0\n",
      "Bowenur, Mr. Solomon 2 0\n",
      "Schmidt, Mr. August 2 0\n",
      "Beauchamp, Mr. Henry James 2 0\n",
      "Lahtinen, Rev. William 2 0\n",
      "Peruschitz, Rev. Joseph Maria 2 0\n",
      "McCrie, Mr. James Matthew 2 0\n",
      "Maybery, Mr. Frank Hubert 2 0\n",
      "Veal, Mr. James 2 0\n",
      "Angle, Mr. William A 2 0\n",
      "Lingane, Mr. John 2 0\n",
      "Drew, Master. Marshall Brines 2 0\n",
      "Baimbrigge, Mr. Charles Robert 2 0\n",
      "Andrew, Mr. Frank Thomas 2 0\n",
      "Collett, Mr. Sidney C Stuart 2 0\n",
      "Deacon, Mr. Percy William 2 0\n",
      "Hocking, Mr. Samuel James Metcalfe 2 0\n",
      "Sweet, Mr. George Frederick 2 0\n",
      "Drew, Mr. James Vivian 2 0\n",
      "Portaluppi, Mr. Emilio Ilario Giuseppe 2 0\n",
      "Parker, Mr. Clifford Richard 2 0\n",
      "Faunthorpe, Mr. Harry 2 0\n",
      "Ware, Mr. John James 2 0\n",
      "Oxenham, Mr. Percy Thomas 2 0\n",
      "Malachard, Mr. Noel 2 0\n",
      "Phillips, Mr. Escott Robert 2 0\n",
      "Rogers, Mr. Reginald Harry 2 0\n",
      "Jefferys, Mr. Ernest Wilfred 2 0\n",
      "Nesson, Mr. Israel 2 0\n",
      "Clarke, Mr. Charles Valentine 2 0\n",
      "Enander, Mr. Ingvar 2 0\n",
      "de Brito, Mr. Jose Joaquim 2 0\n",
      "Denbury, Mr. Herbert 2 0\n",
      "Fillbrook, Mr. Joseph Charles 2 0\n",
      "Botsford, Mr. William Hull 2 0\n",
      "Giles, Mr. Ralph 2 0\n",
      "Stokes, Mr. Philip Joseph 2 0\n",
      "Dibden, Mr. William 2 0\n",
      "Herman, Mr. Samuel 2 0\n",
      "Pallas y Castello, Mr. Emilio 2 0\n",
      "Giles, Mr. Edgar 2 0\n",
      "Harbeck, Mr. William H 2 0\n",
      "Cotterill, Mr. Henry Harry\"\" 2 0\n",
      "Wheeler, Mr. Edwin Frederick\"\" 2 0\n",
      "Ashby, Mr. John 2 0\n",
      "Gilbert, Mr. William 2 0\n",
      "Gale, Mr. Harry 2 0\n",
      "Nourney, Mr. Alfred (Baron von Drachstedt\")\" 2 0\n",
      "Ware, Mr. William Jeffery 2 0\n",
      "Myles, Mr. Thomas Francis 2 0\n",
      "Caldwell, Mr. Albert Francis 2 0\n",
      "Howard, Mr. Benjamin 2 0\n",
      "Keane, Mr. Daniel 2 0\n",
      "Louch, Mr. Charles Alexander 2 0\n",
      "Jefferys, Mr. Clifford Thomas 2 0\n",
      "Pulbaum, Mr. Franz 2 0\n",
      "Mangiavacchi, Mr. Serafino Emilio 2 0\n",
      "McCrae, Mr. Arthur Gordon 2 0\n",
      "Aldworth, Mr. Charles Augustus 2 0\n",
      "Lamb, Mr. John Joseph 2 0\n",
      "Wells, Master. Ralph Lester 2 0\n",
      "Weisz, Mr. Leopold 2 0\n",
      "Swane, Mr. George 2 0\n",
      "Stanton, Mr. Samuel Ward 2 0\n",
      "Bowenur, Mr. Solomon 2 0\n",
      "Schmidt, Mr. August 2 0\n",
      "Beauchamp, Mr. Henry James 2 0\n",
      "Lahtinen, Rev. William 2 0\n",
      "Peruschitz, Rev. Joseph Maria 2 0\n",
      "McCrie, Mr. James Matthew 2 0\n",
      "Maybery, Mr. Frank Hubert 2 0\n",
      "Veal, Mr. James 2 0\n",
      "Angle, Mr. William A 2 0\n",
      "Lingane, Mr. John 2 0\n",
      "Drew, Master. Marshall Brines 2 0\n",
      "Baimbrigge, Mr. Charles Robert 2 0\n",
      "Andrew, Mr. Frank Thomas 2 0\n",
      "Collett, Mr. Sidney C Stuart 2 0\n",
      "Deacon, Mr. Percy William 2 0\n",
      "Hocking, Mr. Samuel James Metcalfe 2 0\n",
      "Sweet, Mr. George Frederick 2 0\n",
      "Drew, Mr. James Vivian 2 0\n",
      "Portaluppi, Mr. Emilio Ilario Giuseppe 2 0\n",
      "Parker, Mr. Clifford Richard 2 0\n",
      "Faunthorpe, Mr. Harry 2 0\n",
      "Ware, Mr. John James 2 0\n",
      "Oxenham, Mr. Percy Thomas 2 0\n",
      "Malachard, Mr. Noel 2 0\n",
      "Phillips, Mr. Escott Robert 2 0\n",
      "Rogers, Mr. Reginald Harry 2 0\n",
      "Jefferys, Mr. Ernest Wilfred 2 0\n",
      "Nesson, Mr. Israel 2 0\n",
      "Clarke, Mr. Charles Valentine 2 0\n",
      "Enander, Mr. Ingvar 2 0\n",
      "de Brito, Mr. Jose Joaquim 2 0\n",
      "Denbury, Mr. Herbert 2 0\n",
      "Fillbrook, Mr. Joseph Charles 2 0\n",
      "Botsford, Mr. William Hull 2 0\n",
      "Giles, Mr. Ralph 2 0\n",
      "Stokes, Mr. Philip Joseph 2 0\n",
      "Dibden, Mr. William 2 0\n",
      "Herman, Mr. Samuel 2 0\n",
      "Pallas y Castello, Mr. Emilio 2 0\n",
      "Giles, Mr. Edgar 2 0\n",
      "Harbeck, Mr. William H 2 0\n",
      "Cotterill, Mr. Henry Harry\"\" 2 0\n",
      "Wheeler, Mr. Edwin Frederick\"\" 2 0\n",
      "Ashby, Mr. John 2 0\n",
      "Gilbert, Mr. William 2 0\n",
      "Gale, Mr. Harry 2 0\n",
      "Nourney, Mr. Alfred (Baron von Drachstedt\")\" 2 0\n",
      "Ware, Mr. William Jeffery 2 0\n"
     ]
    }
   ],
   "source": [
    "for passenger in non_survivors_second_class:\n",
    "    print(passenger[\"Name\"], passenger[\"Pclass\"], passenger[\"Survived\"])"
   ],
   "metadata": {
    "collapsed": false,
    "ExecuteTime": {
     "end_time": "2025-06-29T17:08:40.273581400Z",
     "start_time": "2025-06-29T17:08:40.189044900Z"
    }
   },
   "id": "567091220bb19068"
  },
  {
   "cell_type": "markdown",
   "source": [
    "Exercice 5: Suppression de Données"
   ],
   "metadata": {
    "collapsed": false
   },
   "id": "1f9f4890b29d433"
  },
  {
   "cell_type": "code",
   "execution_count": 18,
   "outputs": [
    {
     "data": {
      "text/plain": "DeleteResult({'n': 0, 'ok': 1.0}, acknowledged=True)"
     },
     "execution_count": 18,
     "metadata": {},
     "output_type": "execute_result"
    }
   ],
   "source": [
    "#Supprimez les enregistrements des passagers qui n'ont pas survécu et dont l'âge est inconnu\n",
    "collection.delete_many(\n",
    "    {\"Survived\": 0, \"Age\": {\"$exists\": False}}\n",
    ")"
   ],
   "metadata": {
    "collapsed": false,
    "ExecuteTime": {
     "end_time": "2025-06-29T17:09:09.475605200Z",
     "start_time": "2025-06-29T17:09:09.382071400Z"
    }
   },
   "id": "5a5963de06f2c8bc"
  },
  {
   "cell_type": "markdown",
   "source": [
    "Exercice 6: Mise à Jour en Masse"
   ],
   "metadata": {
    "collapsed": false
   },
   "id": "fe9e92a2bffa2124"
  },
  {
   "cell_type": "code",
   "execution_count": 19,
   "outputs": [
    {
     "data": {
      "text/plain": "UpdateResult({'n': 836, 'nModified': 836, 'ok': 1.0, 'updatedExisting': True}, acknowledged=True)"
     },
     "execution_count": 19,
     "metadata": {},
     "output_type": "execute_result"
    }
   ],
   "source": [
    "#Utilisez une opération de mise à jour pour augmenter la valeur du champ Age de 1 pour tous les documents\n",
    "collection.update_many(\n",
    "    {},\n",
    "    {\"$inc\": {\"Age\": 1}}\n",
    ")"
   ],
   "metadata": {
    "collapsed": false,
    "ExecuteTime": {
     "end_time": "2025-06-29T17:10:13.514130400Z",
     "start_time": "2025-06-29T17:10:13.439613500Z"
    }
   },
   "id": "2a9a2ab1630921d6"
  },
  {
   "cell_type": "markdown",
   "source": [
    "Exercice 7: Suppression Conditionnelle"
   ],
   "metadata": {
    "collapsed": false
   },
   "id": "e05d94e4ebb8ea75"
  },
  {
   "cell_type": "code",
   "execution_count": 20,
   "outputs": [
    {
     "data": {
      "text/plain": "DeleteResult({'n': 0, 'ok': 1.0}, acknowledged=True)"
     },
     "execution_count": 20,
     "metadata": {},
     "output_type": "execute_result"
    }
   ],
   "source": [
    "#Supprimez tous les documents où le champ Ticket est absent ou vide.\n",
    "collection.delete_many(\n",
    "    {\"Ticket\": {\"$exists\": False}}\n",
    ")"
   ],
   "metadata": {
    "collapsed": false,
    "ExecuteTime": {
     "end_time": "2025-06-29T17:10:48.171801Z",
     "start_time": "2025-06-29T17:10:48.077485200Z"
    }
   },
   "id": "33e52f4c3924fffb"
  },
  {
   "cell_type": "markdown",
   "source": [
    "Bonus: Utiliser les REGEX"
   ],
   "metadata": {
    "collapsed": false
   },
   "id": "7f78e900dbb31023"
  },
  {
   "cell_type": "code",
   "execution_count": 21,
   "outputs": [],
   "source": [
    "#Utiliser une regex pour trouver tous les passagers qui porte le titre de Dr.\n",
    "dr_passengers = collection.find({\"Name\": {\"$regex\": r\"\\bDr\\b\"}})"
   ],
   "metadata": {
    "collapsed": false,
    "ExecuteTime": {
     "end_time": "2025-06-29T17:11:10.335259Z",
     "start_time": "2025-06-29T17:11:10.258829800Z"
    }
   },
   "id": "c03464bbfbf3f4a8"
  },
  {
   "cell_type": "code",
   "execution_count": 22,
   "outputs": [
    {
     "name": "stdout",
     "output_type": "stream",
     "text": [
      "Dodge, Dr. Washington 54.0 1\n",
      "Dodge, Dr. Washington 54.0 1\n"
     ]
    }
   ],
   "source": [
    "for passenger in dr_passengers:\n",
    "    print(passenger[\"Name\"], passenger[\"Age\"], passenger[\"Pclass\"])"
   ],
   "metadata": {
    "collapsed": false,
    "ExecuteTime": {
     "end_time": "2025-06-29T17:11:12.609423100Z",
     "start_time": "2025-06-29T17:11:12.513574Z"
    }
   },
   "id": "feda79ff691e415"
  },
  {
   "cell_type": "code",
   "execution_count": null,
   "outputs": [],
   "source": [],
   "metadata": {
    "collapsed": false
   },
   "id": "cf211f4143704f08"
  }
 ],
 "metadata": {
  "kernelspec": {
   "display_name": "Python 3",
   "language": "python",
   "name": "python3"
  },
  "language_info": {
   "codemirror_mode": {
    "name": "ipython",
    "version": 2
   },
   "file_extension": ".py",
   "mimetype": "text/x-python",
   "name": "python",
   "nbconvert_exporter": "python",
   "pygments_lexer": "ipython2",
   "version": "2.7.6"
  }
 },
 "nbformat": 4,
 "nbformat_minor": 5
}
